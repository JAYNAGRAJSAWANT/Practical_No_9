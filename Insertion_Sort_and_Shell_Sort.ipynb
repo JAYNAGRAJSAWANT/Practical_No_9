{
  "nbformat": 4,
  "nbformat_minor": 0,
  "metadata": {
    "colab": {
      "name": "Insertion Sort and Shell Sort",
      "provenance": [],
      "authorship_tag": "ABX9TyPc2LSum016XZHPcosIAXwy",
      "include_colab_link": true
    },
    "kernelspec": {
      "name": "python3",
      "display_name": "Python 3"
    },
    "language_info": {
      "name": "python"
    }
  },
  "cells": [
    {
      "cell_type": "markdown",
      "metadata": {
        "id": "view-in-github",
        "colab_type": "text"
      },
      "source": [
        "<a href=\"https://colab.research.google.com/github/JAYNAGRAJSAWANT/Practical_No_9/blob/main/Insertion_Sort_and_Shell_Sort.ipynb\" target=\"_parent\"><img src=\"https://colab.research.google.com/assets/colab-badge.svg\" alt=\"Open In Colab\"/></a>"
      ]
    },
    {
      "cell_type": "code",
      "metadata": {
        "id": "Ghxf3uzszcDc"
      },
      "source": [
        "def insertSort(arr,n):\n",
        "    i = 1    \n",
        "    for i in range(n):\n",
        "        temp = arr[i]\n",
        "        j = i-1\n",
        "        while((j>=0) & (arr[j]>temp)):\n",
        "            arr[j+1] = arr[j]\n",
        "            j = j-1\n",
        "        arr[j+1] = temp\n",
        "        \n",
        "    print(arr)\n",
        "    print(\"Top Five Scores are...\")\n",
        "    for i in range (len(arr)-1,1,-1):\n",
        "        print(arr[i])\n",
        "\n",
        "def shellSort(arr,n):\n",
        "    d = n//2\n",
        "    while d > 0: \n",
        "        for i in range(d,n):\n",
        "            temp = arr[i] \n",
        "            j = i \n",
        "            while(j >= d and arr[j-d] >temp): \n",
        "                arr[j] = arr[j-d] \n",
        "                j -= d \n",
        "  \n",
        "            arr[j] = temp \n",
        "        d = d//2\n",
        "\n",
        "    print(arr)\n",
        "    print(\"Top Five Scores are...\")\n",
        "    for i in range (len(arr)-1,1,-1):\n",
        "        print(arr[i])   \n",
        "        \n",
        "print(\"\\nHow many students are there?\")\n",
        "n = int(input())\n",
        "array = []\n",
        "i=0\n",
        "for i in range(n):\n",
        "    print(\"\\n Enter percentage marks\")\n",
        "    item = float(input())\n",
        "    array.append(item)\n",
        "\n",
        "print(\"You have entered following scores...\\n\")\n",
        "print(array)\n",
        "while(True):\n",
        "    print(\"Main Menu\")\n",
        "    print(\"\\n 1. Insertion Sort\")\n",
        "    print(\"\\n 2. Shell Sort\")\n",
        "    print(\"\\n 3. Exit\")\n",
        "    print(\"\\n Enter your Choice: \")\n",
        "    choice = int(input())\n",
        "    if(choice == 1):\n",
        "        print(\"\\n The sorted Scores are...\")\n",
        "        insertSort(array,n)\n",
        "    elif(choice ==2):\n",
        "        print(\"\\n The sorted Scores are...\")\n",
        "        shellSort(array,n)\n",
        "    else:\n",
        "        print(\"Exitting\")\n",
        "        break\n"
      ],
      "execution_count": null,
      "outputs": []
    }
  ]
}